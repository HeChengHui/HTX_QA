{
 "cells": [
  {
   "cell_type": "markdown",
   "id": "a8977e71",
   "metadata": {},
   "source": [
    "# Start an Elasticsearch server\n",
    "\n",
    "Haystack finds answers to queries within the documents stored in a `DocumentStore`. The current implementations of `DocumentStore` include `ElasticsearchDocumentStore`, `FAISSDocumentStore`,  `SQLDocumentStore`, and `InMemoryDocumentStore`.\n",
    "\n",
    "**Here:** Elasticsearch is recommended as it comes preloaded with features like [full-text queries](https://www.elastic.co/guide/en/elasticsearch/reference/current/full-text-queries.html), [BM25 retrieval](https://www.elastic.co/elasticon/conf/2016/sf/improved-text-scoring-with-bm25), and [vector storage for text embeddings](https://www.elastic.co/guide/en/elasticsearch/reference/7.6/dense-vector.html)."
   ]
  },
  {
   "cell_type": "code",
   "execution_count": 2,
   "id": "5ba3f956",
   "metadata": {
    "scrolled": true
   },
   "outputs": [
    {
     "name": "stderr",
     "output_type": "stream",
     "text": [
      "07/29/2021 16:56:48 - INFO - elasticsearch -   HEAD http://localhost:9200/ [status:200 request:0.011s]\n",
      "07/29/2021 16:56:48 - INFO - elasticsearch -   HEAD http://localhost:9200/document [status:200 request:0.003s]\n",
      "07/29/2021 16:56:48 - INFO - elasticsearch -   GET http://localhost:9200/document [status:200 request:0.003s]\n",
      "07/29/2021 16:56:48 - INFO - elasticsearch -   PUT http://localhost:9200/document/_mapping [status:200 request:0.034s]\n",
      "07/29/2021 16:56:48 - INFO - elasticsearch -   HEAD http://localhost:9200/label [status:200 request:0.005s]\n"
     ]
    }
   ],
   "source": [
    "from haystack.document_store.elasticsearch import ElasticsearchDocumentStore # document store instance\n",
    "document_store = ElasticsearchDocumentStore( # initialise the document store\n",
    "    host=\"localhost\", username=\"\", password=\"\", index=\"document\" # initialise to our elasticsearch\n",
    "    )\n",
    "\n",
    "## can use the following code to check for the indices open\n",
    "# import requests\n",
    "# print(requests.get(\"http://localhost:9200/_cat/indices\").text)"
   ]
  },
  {
   "cell_type": "markdown",
   "id": "171ccd37",
   "metadata": {},
   "source": [
    "# **STEP 1**: Get the context ready and send it into the document store to be index by elasticsearch\n",
    "https://haystack.deepset.ai/docs/latest/documentstoremd\n",
    "\n",
    "The data is stored in a excel workbook and split into News section (scraped by me) and Website section (scraped by Pang Wei).\n",
    "\n",
    "We first read the excel file and do some simple preprocessing before splitting it into a dictionary format article by article, and finally stored into thte document store."
   ]
  },
  {
   "cell_type": "code",
   "execution_count": 3,
   "id": "75715b30",
   "metadata": {},
   "outputs": [
    {
     "name": "stderr",
     "output_type": "stream",
     "text": [
      "07/29/2021 16:56:59 - INFO - elasticsearch -   POST http://localhost:9200/document/_search?scroll=1d&size=10000 [status:200 request:0.259s]\n",
      "07/29/2021 16:57:00 - INFO - elasticsearch -   POST http://localhost:9200/_search/scroll [status:200 request:0.037s]\n",
      "07/29/2021 16:57:00 - INFO - elasticsearch -   DELETE http://localhost:9200/_search/scroll [status:200 request:0.015s]\n"
     ]
    },
    {
     "name": "stdout",
     "output_type": "stream",
     "text": [
      "{'count': 46, 'chars_mean': 3962.195652173913, 'chars_max': 18696, 'chars_min': 395, 'chars_median': 3329.5}\n"
     ]
    }
   ],
   "source": [
    "# import pandas as pd\n",
    "## remove \\n and +\n",
    "# def clean_data(data):\n",
    "#     data.replace('\\n', ' ', regex=True, inplace=True)\n",
    "#     data.replace(' +', ' ', regex=True, inplace=True)\n",
    "#     data.replace('\\t', ' ', regex=True, inplace=True) # only include cause got 1 occurance in News section\n",
    "#     data = data.str.strip()\n",
    "#     return data\n",
    "\n",
    "## read from xlsx file (for >1 worksheet support)\n",
    "## Since December 2020 xlrd no longer supports xlsx-Files, so need use openpyxl\n",
    "# df_News = pd.read_excel('HTX knowledge base.xlsx', sheet_name='News', engine='openpyxl')\n",
    "# df_Website = pd.read_excel('HTX knowledge base.xlsx', sheet_name='Website', engine='openpyxl')\n",
    "# data_News = clean_data(df_News['article_content'])\n",
    "# data_Website = clean_data(df_Website['article_content'])\n",
    "## data_xxx.values shows all the context in a numpy.ndarray type.\n",
    "# context_News = data_News.values\n",
    "# context_Website = data_Website.values\n",
    "\n",
    "## context made into a dict type for the documentstore to index\n",
    "# context_json_News = [\n",
    "#     {\n",
    "#       'text' : paragraph,\n",
    "#       'meta' : {\n",
    "#           'source': 'News'}\n",
    "#       } for paragraph in context_News # so each 'text' is a article.\n",
    "#     ]\n",
    "# print(context_json_News[:3]) # check the first 3 articles\n",
    "# print(len(context_json_News)) # check the number of articles\n",
    "\n",
    "## context made into a dict type for the documentstore to index\n",
    "# context_json_Website = [\n",
    "#     {\n",
    "#       'text' : paragraph,\n",
    "#       'meta' : {\n",
    "#           'source': 'Website'}\n",
    "#       } for paragraph in context_Website # so each 'text' is a article.\n",
    "#     ]\n",
    "# print(context_json_Website[:3]) # check the first 3 articles\n",
    "# print(len(context_json_Website)) # check the number of articles\n",
    "\n",
    "## Empty the document store\n",
    "# document_store.delete_documents()\n",
    "\n",
    "## write into the document store\n",
    "# document_store.write_documents(context_json_News)\n",
    "# document_store.write_documents(context_json_Website)\n",
    "\n",
    "## check how many items in the document store of document\n",
    "## ValueError: max() arg is an empty sequence if is empty\n",
    "## with News + Website should have 31+15=46 articles\n",
    "print(document_store.describe_documents())\n",
    "## Use the below to check for embeddings when using DPR\n",
    "# print(document_store.get_embedding_count())\n",
    "\n",
    "## Check what is inside document store\n",
    "# print(document_store.get_all_documents())"
   ]
  },
  {
   "cell_type": "markdown",
   "id": "70e79788",
   "metadata": {},
   "source": [
    "# **STEP 2**: Initialise the Retriever\n",
    "https://haystack.deepset.ai/docs/latest/retrievermd\n",
    "\n",
    "There are mainly 2 types of Retriever that Haystack use, Sparse and Dense Passage retriever (DPR). Testing shows better results with the BM25 retriever."
   ]
  },
  {
   "cell_type": "code",
   "execution_count": 4,
   "id": "5543c921",
   "metadata": {},
   "outputs": [],
   "source": [
    "## BM25 method\n",
    "from haystack.retriever.sparse import ElasticsearchRetriever\n",
    "retriever = ElasticsearchRetriever(document_store=document_store)\n",
    "## For this method, no need to update any embeddings."
   ]
  },
  {
   "cell_type": "code",
   "execution_count": null,
   "id": "2876cf31",
   "metadata": {},
   "outputs": [],
   "source": [
    "## DPR method (not very good from testing)\n",
    "## Use embedding models from huggingface. \n",
    "from haystack.retriever.dense import DensePassageRetriever\n",
    "dpr_retriever = DensePassageRetriever(document_store=document_store,\n",
    "                                query_embedding_model=\"facebook/dpr-question_encoder-single-nq-base\",\n",
    "                                passage_embedding_model=\"facebook/dpr-ctx_encoder-single-nq-base\",\n",
    "                                use_gpu=True,\n",
    "                                )\n",
    "''' Important: \n",
    "Now that after we have the DPR initialized, we need to call update_embeddings() to iterate over all\n",
    "previously indexed documents and update their embedding representation. \n",
    "While this can be a time consuming operation (depending on corpus size), it only needs to be done once. \n",
    "At query time, we only need to embed the query and compare it the existing doc embeddings which is very fast.'''\n",
    "# document_store.update_embeddings(dpr_retriever)\n",
    "## check retriever working\n",
    "# print(retriever.retrieve('Who is Clara Ho?'))\n",
    "# print(\"-----------------------------------------------------------------------------------------------------------------------------------------------------------\")\n",
    "# print(dpr_retriever.retrieve('Who is Clara Ho?'))"
   ]
  },
  {
   "cell_type": "markdown",
   "id": "41d1c6e5",
   "metadata": {},
   "source": [
    "# **STEP 3**: Initialise the Ranker\n",
    "https://haystack.deepset.ai/docs/latest/rankermd\n",
    "\n",
    "\n",
    "**NOTE:**\n",
    "In their documentation, it is said to improve results by taking semantics into account at the cost of speed. Use when the results you get when just using retriever isn't similar to what you are asking. \n",
    "In this case of HTX website, with or ranker seems to yield no difference in results using the 10 questions I set.\n",
    "\n",
    "**IMPORTANT**: If you plan to use the Ranker, make sure to use the pipeline that initialise the Ranker as well."
   ]
  },
  {
   "cell_type": "code",
   "execution_count": null,
   "id": "672b8e1e",
   "metadata": {},
   "outputs": [],
   "source": [
    "## Ranker -> SentenceTransformersRanker\n",
    "from haystack.ranker import SentenceTransformersRanker\n",
    "ranker = SentenceTransformersRanker(model_name_or_path=\"cross-encoder/ms-marco-MiniLM-L-6-v2\")"
   ]
  },
  {
   "cell_type": "code",
   "execution_count": null,
   "id": "ab04e808",
   "metadata": {},
   "outputs": [],
   "source": [
    "## Ranker -> FARMRanker\n",
    "from haystack.ranker import FARMRanker\n",
    "ranker = FARMRanker(model_name_or_path=\"nboost/pt-tinybert-msmarco\", \n",
    "                    num_processes=0, use_gpu=True)"
   ]
  },
  {
   "cell_type": "markdown",
   "id": "fe85dd78",
   "metadata": {},
   "source": [
    "# **STEP 4**: Initialise the Reader\n",
    "https://haystack.deepset.ai/docs/latest/readermd\n",
    "\n",
    "In Haystack, there are 2 main method to choose from. Either to use their FARMReader, or TransformersReader which need the user to specify which model they want from: https://huggingface.co/models?pipeline_tag=question-\n",
    "\n",
    "From my testing, TransformersReader seems to yield better results."
   ]
  },
  {
   "cell_type": "code",
   "execution_count": 5,
   "id": "e7dc3da4",
   "metadata": {},
   "outputs": [],
   "source": [
    "## Tranformer method \n",
    "from haystack.reader.transformers import TransformersReader\n",
    "reader = TransformersReader(\n",
    "    model_name_or_path=\"deepset/roberta-base-squad2\", use_gpu=0, max_seq_len=512\n",
    "    )\n",
    "## use_gpu <0, use CPU. Else GPU.\n",
    "## max_seq_len default is 256, 512 seems to give better answers. 768 gives errors."
   ]
  },
  {
   "cell_type": "code",
   "execution_count": null,
   "id": "c1796f5f",
   "metadata": {},
   "outputs": [],
   "source": [
    "## FARM method\n",
    "from haystack.reader.farm import FARMReader\n",
    "reader = FARMReader(model_name_or_path=\"deepset/roberta-base-squad2\", use_gpu=True,\n",
    "                    num_processes=0, max_seq_len=512)\n"
   ]
  },
  {
   "cell_type": "markdown",
   "id": "3b664358",
   "metadata": {},
   "source": [
    "# **STEP 5**: Initialise the Pipeline\n",
    "https://haystack.deepset.ai/docs/latest/pipelinesmd\n",
    "\n",
    "Pipelines are like a tree where one can add different components or nodes to the tree. The most basic QA pipeline would need a retriever to retrieve the relavant documents and a reader to get the short answer from the documents.\n",
    "<img src=\"https://haystack.deepset.ai/static/7cbd0592b7e0de24ec3f5b3628ca24ae/efc66/retriever_reader.png\">"
   ]
  },
  {
   "cell_type": "code",
   "execution_count": 7,
   "id": "f895f65d",
   "metadata": {},
   "outputs": [],
   "source": [
    "## This is just using EQAPipeline (retriever & reader only)\n",
    "from haystack.pipeline import ExtractiveQAPipeline\n",
    "p = ExtractiveQAPipeline(reader=reader, retriever=retriever)"
   ]
  },
  {
   "attachments": {
    "custom%20pipe%20%28Ret,%20Ran,%20Rea%29.png": {
     "image/png": "[encoded data removed]"
    }
   },
   "cell_type": "markdown",
   "id": "46d94476",
   "metadata": {},
   "source": [
    "### Extractive QA with ranker\n",
    "![custom%20pipe%20%28Ret,%20Ran,%20Rea%29.png](attachment:custom%20pipe%20%28Ret,%20Ran,%20Rea%29.png)"
   ]
  },
  {
   "cell_type": "code",
   "execution_count": null,
   "id": "7a73f996",
   "metadata": {},
   "outputs": [],
   "source": [
    "from haystack import Pipeline\n",
    "p = Pipeline()\n",
    "p.add_node(component=retriever, name=\"Retriever\", inputs=[\"Query\"])\n",
    "p.add_node(component=ranker, name=\"Ranker\", inputs=[\"Retriever\"])\n",
    "p.add_node(component=reader,name=\"Reader\", inputs=[\"Ranker\"]) # Change the input to Ranker or Retriever accordingly"
   ]
  },
  {
   "attachments": {
    "mul%20retriever.png": {
     "image/png": "[encoded data removed]"
    }
   },
   "cell_type": "markdown",
   "id": "27892e87",
   "metadata": {},
   "source": [
    "### Custom Pipelines\n",
    "1. Multiple retriever\n",
    "![mul%20retriever.png](attachment:mul%20retriever.png)\n",
    "2. Multiple retriever to ranker \n",
    "<img src=\"mul retr then ranker.png\">\n",
    "3. Multiple retriever with ranker after BM25\n",
    "<img src=\"mul retr (ranker with ESR).png\">\n",
    "<br>\n",
    "<br>\n",
    "Currently Testing shows that the 3rd option has better performance out of the 3 custom pipelines."
   ]
  },
  {
   "cell_type": "code",
   "execution_count": null,
   "id": "aa87e3ae",
   "metadata": {},
   "outputs": [],
   "source": [
    "from haystack import Pipeline\n",
    "from haystack.pipeline import JoinDocuments\n",
    "p = Pipeline()\n",
    "p.add_node(component=retriever, name=\"ESRetriever\", inputs=[\"Query\"])\n",
    "# p.add_node(component=ranker, name=\"Ranker\", inputs=[\"ESRetriever\"])\n",
    "p.add_node(component=dpr_retriever, name=\"DPRRetriever\", inputs=[\"Query\"])\n",
    "p.add_node(component=JoinDocuments(join_mode=\"concatenate\", top_k_join=5), name=\"JoinResults\", inputs=[\"ESRetriever\", \"DPRRetriever\"])\n",
    "p.add_node(component=ranker, name=\"Ranker\", inputs=[\"JoinResults\"])\n",
    "p.add_node(component=reader, name=\"QAReader\", inputs=[\"Ranker\"])"
   ]
  },
  {
   "cell_type": "markdown",
   "id": "b941944d",
   "metadata": {},
   "source": [
    "# **STEP 6**: Question-Answer"
   ]
  },
  {
   "cell_type": "code",
   "execution_count": 9,
   "id": "14e307ca",
   "metadata": {},
   "outputs": [
    {
     "name": "stderr",
     "output_type": "stream",
     "text": [
      "07/29/2021 16:59:49 - INFO - elasticsearch -   POST http://localhost:9200/document/_search [status:200 request:0.018s]\n"
     ]
    },
    {
     "data": {
      "text/html": [
       "<div>\n",
       "<style scoped>\n",
       "    .dataframe tbody tr th:only-of-type {\n",
       "        vertical-align: middle;\n",
       "    }\n",
       "\n",
       "    .dataframe tbody tr th {\n",
       "        vertical-align: top;\n",
       "    }\n",
       "\n",
       "    .dataframe thead th {\n",
       "        text-align: right;\n",
       "    }\n",
       "</style>\n",
       "<table border=\"1\" class=\"dataframe\">\n",
       "  <thead>\n",
       "    <tr style=\"text-align: right;\">\n",
       "      <th></th>\n",
       "      <th>answer</th>\n",
       "      <th>context</th>\n",
       "      <th>probability</th>\n",
       "    </tr>\n",
       "  </thead>\n",
       "  <tbody>\n",
       "    <tr>\n",
       "      <th>0</th>\n",
       "      <td>Data Scientist</td>\n",
       "      <td>nd other Singapore security agencies. Said one associate, Clara Ho, a Data Scientist, “Being in HTX’s Data Science and AI Centre of Expertise (DSAI CoE) h</td>\n",
       "      <td>0.737899</td>\n",
       "    </tr>\n",
       "    <tr>\n",
       "      <th>1</th>\n",
       "      <td>Data Scientist</td>\n",
       "      <td>nd other Singapore security agencies. Said one associate, Clara Ho, a Data Scientist, “Being in HTX’s Data Science and AI Centre of Expertise (DSAI CoE) h</td>\n",
       "      <td>0.623083</td>\n",
       "    </tr>\n",
       "    <tr>\n",
       "      <th>2</th>\n",
       "      <td>None</td>\n",
       "      <td>None</td>\n",
       "      <td>0.492586</td>\n",
       "    </tr>\n",
       "    <tr>\n",
       "      <th>3</th>\n",
       "      <td>a Data Scientist</td>\n",
       "      <td>and other Singapore security agencies. Said one associate, Clara Ho, a Data Scientist, “Being in HTX’s Data Science and AI Centre of Expertise (DSAI CoE) h</td>\n",
       "      <td>0.314113</td>\n",
       "    </tr>\n",
       "    <tr>\n",
       "      <th>4</th>\n",
       "      <td>a Data Scientist</td>\n",
       "      <td>and other Singapore security agencies. Said one associate, Clara Ho, a Data Scientist, “Being in HTX’s Data Science and AI Centre of Expertise (DSAI CoE) h</td>\n",
       "      <td>0.186492</td>\n",
       "    </tr>\n",
       "  </tbody>\n",
       "</table>\n",
       "</div>"
      ],
      "text/plain": [
       "             answer  \\\n",
       "0    Data Scientist   \n",
       "1    Data Scientist   \n",
       "2              None   \n",
       "3  a Data Scientist   \n",
       "4  a Data Scientist   \n",
       "\n",
       "                                                                                                                                                        context  \\\n",
       "0    nd other Singapore security agencies. Said one associate, Clara Ho, a Data Scientist, “Being in HTX’s Data Science and AI Centre of Expertise (DSAI CoE) h   \n",
       "1    nd other Singapore security agencies. Said one associate, Clara Ho, a Data Scientist, “Being in HTX’s Data Science and AI Centre of Expertise (DSAI CoE) h   \n",
       "2                                                                                                                                                          None   \n",
       "3   and other Singapore security agencies. Said one associate, Clara Ho, a Data Scientist, “Being in HTX’s Data Science and AI Centre of Expertise (DSAI CoE) h   \n",
       "4   and other Singapore security agencies. Said one associate, Clara Ho, a Data Scientist, “Being in HTX’s Data Science and AI Centre of Expertise (DSAI CoE) h   \n",
       "\n",
       "   probability  \n",
       "0     0.737899  \n",
       "1     0.623083  \n",
       "2     0.492586  \n",
       "3     0.314113  \n",
       "4     0.186492  "
      ]
     },
     "metadata": {},
     "output_type": "display_data"
    },
    {
     "name": "stdout",
     "output_type": "stream",
     "text": [
      "0:00:01.019371\n"
     ]
    }
   ],
   "source": [
    "from haystack.utils import print_answers\n",
    "from datetime import datetime \n",
    "## You can configure how many candidates the reader and retriever shall return\n",
    "## The higher top_k_retriever, the better (but also the slower) your answers. \n",
    "start = datetime.now()\n",
    "prediction = p.run(query=\"Who is Clara Ho?\", top_k_retriever=5, top_k_reader=5)\n",
    "\n",
    "## Use this to see all the details, but in a messier layout\n",
    "#print_answers(prediction, details=\"all\")\n",
    "\n",
    "## Use this to see the 'answer', 'context' & 'probability' in a table format, but less detail\n",
    "## Function credits to Clara\n",
    "import pandas as pd\n",
    "pd.set_option('display.max_colwidth', None)\n",
    "import pprint\n",
    "\n",
    "def print_preds_df(results):\n",
    "    answers = results[\"answers\"]\n",
    "    pp = pprint.PrettyPrinter(indent=4)\n",
    "    keys_to_keep = set([\"answer\", \"context\", \"probability\"])\n",
    "\n",
    "    # filter the results\n",
    "    filtered_answers = []\n",
    "    for ans in answers:\n",
    "        filtered_answers.append({k: ans[k] for k in keys_to_keep})\n",
    "\n",
    "    df_res = pd.DataFrame({\"answer\":[], \"context\":[], \"probability\":[]})\n",
    "\n",
    "    for i in filtered_answers:\n",
    "        df_res.loc[len(df_res)] = i\n",
    "    \n",
    "    df_res.sort_values(by=['probability'], inplace = True, ascending=False)\n",
    "    display(df_res)\n",
    "    \n",
    "print_preds_df(prediction)\n",
    "print(datetime.now() - start) # print how long it takes to run the pipeline and get the answer"
   ]
  },
  {
   "cell_type": "markdown",
   "id": "9709807a",
   "metadata": {},
   "source": [
    "### Optional"
   ]
  },
  {
   "cell_type": "code",
   "execution_count": 13,
   "id": "4c9fa54b",
   "metadata": {},
   "outputs": [
    {
     "data": {
      "image/png": "[encoded data removed]",
      "text/plain": [
       "<IPython.core.display.Image object>"
      ]
     },
     "execution_count": 13,
     "metadata": {},
     "output_type": "execute_result"
    }
   ],
   "source": [
    "## draws the pipeline nodes to see where our outputs are going into.\n",
    "from IPython.display import Image\n",
    "p.draw(path=\"custom_pipe.png\")\n",
    "Image(filename='custom_pipe.png') "
   ]
  },
  {
   "cell_type": "code",
   "execution_count": null,
   "id": "f9bfb67b",
   "metadata": {},
   "outputs": [],
   "source": []
  }
 ],
 "metadata": {
  "kernelspec": {
   "display_name": "Python 3",
   "language": "python",
   "name": "python3"
  },
  "language_info": {
   "codemirror_mode": {
    "name": "ipython",
    "version": 3
   },
   "file_extension": ".py",
   "mimetype": "text/x-python",
   "name": "python",
   "nbconvert_exporter": "python",
   "pygments_lexer": "ipython3",
   "version": "3.8.10"
  }
 },
 "nbformat": 4,
 "nbformat_minor": 5
}
